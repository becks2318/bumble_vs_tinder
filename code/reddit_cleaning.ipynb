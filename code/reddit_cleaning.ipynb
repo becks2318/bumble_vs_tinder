{
 "cells": [
  {
   "cell_type": "code",
   "execution_count": 300,
   "id": "f6aa59e9-01ee-410a-a246-d191f970edcf",
   "metadata": {},
   "outputs": [],
   "source": [
    "import pandas as pd\n",
    "import numpy as np\n",
    "import matplotlib.pyplot as plt\n",
    "import seaborn as sns\n",
    "\n",
    "from sklearn.feature_extraction.text import CountVectorizer"
   ]
  },
  {
   "cell_type": "code",
   "execution_count": 301,
   "id": "4e5e2b0a-f9af-4c86-a7ec-d2562a6d5381",
   "metadata": {},
   "outputs": [],
   "source": [
    "# Clean up warnings for presentation\n",
    "\n",
    "import warnings\n",
    "warnings.filterwarnings(\"ignore\")"
   ]
  },
  {
   "cell_type": "code",
   "execution_count": 302,
   "id": "bde0948c-cf8d-49eb-bd89-1598054ca148",
   "metadata": {},
   "outputs": [],
   "source": [
    "# Read in tinder data file\n",
    "\n",
    "tinder = pd.read_csv('../data/tinder_posts.csv')"
   ]
  },
  {
   "cell_type": "code",
   "execution_count": 303,
   "id": "e62e9b17-a297-41d9-81d0-231c79d3d3a3",
   "metadata": {},
   "outputs": [
    {
     "data": {
      "text/html": [
       "<div>\n",
       "<style scoped>\n",
       "    .dataframe tbody tr th:only-of-type {\n",
       "        vertical-align: middle;\n",
       "    }\n",
       "\n",
       "    .dataframe tbody tr th {\n",
       "        vertical-align: top;\n",
       "    }\n",
       "\n",
       "    .dataframe thead th {\n",
       "        text-align: right;\n",
       "    }\n",
       "</style>\n",
       "<table border=\"1\" class=\"dataframe\">\n",
       "  <thead>\n",
       "    <tr style=\"text-align: right;\">\n",
       "      <th></th>\n",
       "      <th>title</th>\n",
       "      <th>author</th>\n",
       "      <th>created_utc</th>\n",
       "      <th>selftext</th>\n",
       "      <th>subreddit</th>\n",
       "      <th>body</th>\n",
       "    </tr>\n",
       "  </thead>\n",
       "  <tbody>\n",
       "    <tr>\n",
       "      <th>0</th>\n",
       "      <td>Good to know what ur kinks are 😒</td>\n",
       "      <td>HotwifeNora</td>\n",
       "      <td>1627046397</td>\n",
       "      <td>NaN</td>\n",
       "      <td>Tinder</td>\n",
       "      <td>NaN</td>\n",
       "    </tr>\n",
       "    <tr>\n",
       "      <th>1</th>\n",
       "      <td>How can I recover my account or make a new one...</td>\n",
       "      <td>Ethan21162</td>\n",
       "      <td>1627045468</td>\n",
       "      <td>I’ve lost my account and gotten it banned as w...</td>\n",
       "      <td>Tinder</td>\n",
       "      <td>NaN</td>\n",
       "    </tr>\n",
       "    <tr>\n",
       "      <th>2</th>\n",
       "      <td>what would a funny or witty response be?</td>\n",
       "      <td>ineedanswersasapplz</td>\n",
       "      <td>1627044247</td>\n",
       "      <td>NaN</td>\n",
       "      <td>Tinder</td>\n",
       "      <td>NaN</td>\n",
       "    </tr>\n",
       "    <tr>\n",
       "      <th>3</th>\n",
       "      <td>Swipe left or right?</td>\n",
       "      <td>Amysleeman442</td>\n",
       "      <td>1627043517</td>\n",
       "      <td>NaN</td>\n",
       "      <td>Tinder</td>\n",
       "      <td>NaN</td>\n",
       "    </tr>\n",
       "    <tr>\n",
       "      <th>4</th>\n",
       "      <td>Is that a friendzone redflag?</td>\n",
       "      <td>Texas_Shepard</td>\n",
       "      <td>1627042563</td>\n",
       "      <td>NaN</td>\n",
       "      <td>Tinder</td>\n",
       "      <td>NaN</td>\n",
       "    </tr>\n",
       "  </tbody>\n",
       "</table>\n",
       "</div>"
      ],
      "text/plain": [
       "                                               title               author  \\\n",
       "0                   Good to know what ur kinks are 😒          HotwifeNora   \n",
       "1  How can I recover my account or make a new one...           Ethan21162   \n",
       "2           what would a funny or witty response be?  ineedanswersasapplz   \n",
       "3                               Swipe left or right?        Amysleeman442   \n",
       "4                      Is that a friendzone redflag?        Texas_Shepard   \n",
       "\n",
       "   created_utc                                           selftext subreddit  \\\n",
       "0   1627046397                                                NaN    Tinder   \n",
       "1   1627045468  I’ve lost my account and gotten it banned as w...    Tinder   \n",
       "2   1627044247                                                NaN    Tinder   \n",
       "3   1627043517                                                NaN    Tinder   \n",
       "4   1627042563                                                NaN    Tinder   \n",
       "\n",
       "  body  \n",
       "0  NaN  \n",
       "1  NaN  \n",
       "2  NaN  \n",
       "3  NaN  \n",
       "4  NaN  "
      ]
     },
     "execution_count": 303,
     "metadata": {},
     "output_type": "execute_result"
    }
   ],
   "source": [
    "# View first five rows of data frame\n",
    "\n",
    "tinder.head()"
   ]
  },
  {
   "cell_type": "code",
   "execution_count": 304,
   "id": "f3336039-6549-4d43-a5e9-e761423bee4e",
   "metadata": {},
   "outputs": [
    {
     "data": {
      "text/plain": [
       "title          5000\n",
       "author            0\n",
       "created_utc       0\n",
       "selftext       8867\n",
       "subreddit         0\n",
       "body           5600\n",
       "dtype: int64"
      ]
     },
     "execution_count": 304,
     "metadata": {},
     "output_type": "execute_result"
    }
   ],
   "source": [
    "# Check for nulls\n",
    "\n",
    "tinder.isnull().sum()"
   ]
  },
  {
   "cell_type": "code",
   "execution_count": 305,
   "id": "17dc3f4e-8223-4cbe-bca5-4b76160d5518",
   "metadata": {},
   "outputs": [
    {
     "data": {
      "text/plain": [
       "(10600, 6)"
      ]
     },
     "execution_count": 305,
     "metadata": {},
     "output_type": "execute_result"
    }
   ],
   "source": [
    "# View size of data frame\n",
    "\n",
    "tinder.shape"
   ]
  },
  {
   "cell_type": "code",
   "execution_count": 306,
   "id": "fe6397d5-bbee-4f3a-96b0-d883387a98d5",
   "metadata": {},
   "outputs": [
    {
     "data": {
      "text/plain": [
       "title          object\n",
       "author         object\n",
       "created_utc     int64\n",
       "selftext       object\n",
       "subreddit      object\n",
       "body           object\n",
       "dtype: object"
      ]
     },
     "execution_count": 306,
     "metadata": {},
     "output_type": "execute_result"
    }
   ],
   "source": [
    "# Check the data types of the fields\n",
    "\n",
    "tinder.dtypes"
   ]
  },
  {
   "cell_type": "code",
   "execution_count": 307,
   "id": "bf6b3e28-52e0-4557-a80b-6b6fe5f039e5",
   "metadata": {},
   "outputs": [],
   "source": [
    "# Read in bumble data file\n",
    "\n",
    "bumble = pd.read_csv('../data/bumble_posts.csv')"
   ]
  },
  {
   "cell_type": "code",
   "execution_count": 308,
   "id": "9326a8cc-9186-40b4-ac5b-507899dd9744",
   "metadata": {},
   "outputs": [
    {
     "data": {
      "text/html": [
       "<div>\n",
       "<style scoped>\n",
       "    .dataframe tbody tr th:only-of-type {\n",
       "        vertical-align: middle;\n",
       "    }\n",
       "\n",
       "    .dataframe tbody tr th {\n",
       "        vertical-align: top;\n",
       "    }\n",
       "\n",
       "    .dataframe thead th {\n",
       "        text-align: right;\n",
       "    }\n",
       "</style>\n",
       "<table border=\"1\" class=\"dataframe\">\n",
       "  <thead>\n",
       "    <tr style=\"text-align: right;\">\n",
       "      <th></th>\n",
       "      <th>title</th>\n",
       "      <th>author</th>\n",
       "      <th>created_utc</th>\n",
       "      <th>selftext</th>\n",
       "      <th>subreddit</th>\n",
       "      <th>body</th>\n",
       "    </tr>\n",
       "  </thead>\n",
       "  <tbody>\n",
       "    <tr>\n",
       "      <th>0</th>\n",
       "      <td>Where do I sign up.</td>\n",
       "      <td>Revolutionary-Line44</td>\n",
       "      <td>1627047507</td>\n",
       "      <td>NaN</td>\n",
       "      <td>Bumble</td>\n",
       "      <td>NaN</td>\n",
       "    </tr>\n",
       "    <tr>\n",
       "      <th>1</th>\n",
       "      <td>\"Thirst trap says wha?\"</td>\n",
       "      <td>salex100m</td>\n",
       "      <td>1627045789</td>\n",
       "      <td>NaN</td>\n",
       "      <td>Bumble</td>\n",
       "      <td>NaN</td>\n",
       "    </tr>\n",
       "    <tr>\n",
       "      <th>2</th>\n",
       "      <td>I am mortified… caught snooping?</td>\n",
       "      <td>Grey_Violet</td>\n",
       "      <td>1627045461</td>\n",
       "      <td>Hello fellow Bumblers. So I’ve (F/31) messed u...</td>\n",
       "      <td>Bumble</td>\n",
       "      <td>NaN</td>\n",
       "    </tr>\n",
       "    <tr>\n",
       "      <th>3</th>\n",
       "      <td>Hey, I’m looking for Syndey</td>\n",
       "      <td>MedievalFootfare</td>\n",
       "      <td>1627044758</td>\n",
       "      <td>NaN</td>\n",
       "      <td>Bumble</td>\n",
       "      <td>NaN</td>\n",
       "    </tr>\n",
       "    <tr>\n",
       "      <th>4</th>\n",
       "      <td>Am I doing this right</td>\n",
       "      <td>Sunshine_Prophylaxis</td>\n",
       "      <td>1627044454</td>\n",
       "      <td>NaN</td>\n",
       "      <td>Bumble</td>\n",
       "      <td>NaN</td>\n",
       "    </tr>\n",
       "  </tbody>\n",
       "</table>\n",
       "</div>"
      ],
      "text/plain": [
       "                              title                author  created_utc  \\\n",
       "0               Where do I sign up.  Revolutionary-Line44   1627047507   \n",
       "1           \"Thirst trap says wha?\"             salex100m   1627045789   \n",
       "2  I am mortified… caught snooping?           Grey_Violet   1627045461   \n",
       "3       Hey, I’m looking for Syndey      MedievalFootfare   1627044758   \n",
       "4             Am I doing this right  Sunshine_Prophylaxis   1627044454   \n",
       "\n",
       "                                            selftext subreddit body  \n",
       "0                                                NaN    Bumble  NaN  \n",
       "1                                                NaN    Bumble  NaN  \n",
       "2  Hello fellow Bumblers. So I’ve (F/31) messed u...    Bumble  NaN  \n",
       "3                                                NaN    Bumble  NaN  \n",
       "4                                                NaN    Bumble  NaN  "
      ]
     },
     "execution_count": 308,
     "metadata": {},
     "output_type": "execute_result"
    }
   ],
   "source": [
    "# View first five rows of data frame\n",
    "\n",
    "bumble.head()"
   ]
  },
  {
   "cell_type": "code",
   "execution_count": 309,
   "id": "faf7a0c4-c29d-4d92-87ca-c2186f9bfdc6",
   "metadata": {},
   "outputs": [
    {
     "data": {
      "text/plain": [
       "title          5000\n",
       "author            0\n",
       "created_utc       0\n",
       "selftext       7476\n",
       "subreddit         0\n",
       "body           5100\n",
       "dtype: int64"
      ]
     },
     "execution_count": 309,
     "metadata": {},
     "output_type": "execute_result"
    }
   ],
   "source": [
    "# Check for nulls\n",
    "\n",
    "bumble.isnull().sum()"
   ]
  },
  {
   "cell_type": "code",
   "execution_count": 310,
   "id": "22cffa7f-977c-4edf-9e10-bc1238693b56",
   "metadata": {},
   "outputs": [
    {
     "data": {
      "text/plain": [
       "(10100, 6)"
      ]
     },
     "execution_count": 310,
     "metadata": {},
     "output_type": "execute_result"
    }
   ],
   "source": [
    "# View size of data frame\n",
    "\n",
    "bumble.shape"
   ]
  },
  {
   "cell_type": "code",
   "execution_count": 311,
   "id": "a0ff545c-5e32-449e-9f2e-6f7ae9ec835c",
   "metadata": {},
   "outputs": [
    {
     "data": {
      "text/plain": [
       "title          object\n",
       "author         object\n",
       "created_utc     int64\n",
       "selftext       object\n",
       "subreddit      object\n",
       "body           object\n",
       "dtype: object"
      ]
     },
     "execution_count": 311,
     "metadata": {},
     "output_type": "execute_result"
    }
   ],
   "source": [
    "# Check the data types of the fields\n",
    "\n",
    "bumble.dtypes"
   ]
  },
  {
   "cell_type": "code",
   "execution_count": 312,
   "id": "5a0f7da4-f219-4789-84e4-3ad1a10b1743",
   "metadata": {},
   "outputs": [],
   "source": [
    "# Clean data frames: remove nulls, '[deleted]', '[removed]' and combine text into one column and remove punctuation\n",
    "\n",
    "def clean_files(df):\n",
    "    self_text_only = df[['selftext']]\n",
    "    self_text_only = self_text_only.dropna()\n",
    "    self_text_only = self_text_only[self_text_only['selftext'] != '[removed]']\n",
    "    self_text_only = self_text_only[self_text_only['selftext'] != '[deleted]']\n",
    "    body_only = df[['body']]\n",
    "    body_only = body_only.dropna()\n",
    "    body_only = body_only[body_only['body'] != '[removed]']\n",
    "    body_only = body_only[body_only['body'] != '[deleted]']\n",
    "    title_only = df[['title']]\n",
    "    title_only = title_only.dropna()\n",
    "    \n",
    "    # Turn all text data into one text column\n",
    "    self_text_only.rename(columns = {'selftext':'text'}, inplace = True)\n",
    "    body_only.rename(columns = {'body':'text'}, inplace = True)\n",
    "    title_only.rename(columns = {'title':'text'}, inplace = True)\n",
    "    \n",
    "    # Concatenate all of the text into one column\n",
    "    words = [self_text_only, body_only, title_only]\n",
    "    text = pd.concat(words, axis = 0)\n",
    "    text['text'] = text['text'].str.replace('[^\\w\\s]','')\n",
    "    \n",
    "    text['subreddit'] = df['subreddit']\n",
    "    \n",
    "    return text"
   ]
  },
  {
   "cell_type": "code",
   "execution_count": 313,
   "id": "8d254631-9cc9-48c7-9053-a2a48ab4c5d5",
   "metadata": {},
   "outputs": [],
   "source": [
    "# Run the cleaning function on the tinder file\n",
    "\n",
    "clean_tinder = clean_files(tinder)"
   ]
  },
  {
   "cell_type": "code",
   "execution_count": 314,
   "id": "bba67a79-f744-4841-aa2a-14e73bd8a9ff",
   "metadata": {},
   "outputs": [
    {
     "data": {
      "text/html": [
       "<div>\n",
       "<style scoped>\n",
       "    .dataframe tbody tr th:only-of-type {\n",
       "        vertical-align: middle;\n",
       "    }\n",
       "\n",
       "    .dataframe tbody tr th {\n",
       "        vertical-align: top;\n",
       "    }\n",
       "\n",
       "    .dataframe thead th {\n",
       "        text-align: right;\n",
       "    }\n",
       "</style>\n",
       "<table border=\"1\" class=\"dataframe\">\n",
       "  <thead>\n",
       "    <tr style=\"text-align: right;\">\n",
       "      <th></th>\n",
       "      <th>text</th>\n",
       "      <th>subreddit</th>\n",
       "    </tr>\n",
       "  </thead>\n",
       "  <tbody>\n",
       "    <tr>\n",
       "      <th>1</th>\n",
       "      <td>Ive lost my account and gotten it banned as we...</td>\n",
       "      <td>Tinder</td>\n",
       "    </tr>\n",
       "    <tr>\n",
       "      <th>5</th>\n",
       "      <td>Even after girls numbers you still have to to ...</td>\n",
       "      <td>Tinder</td>\n",
       "    </tr>\n",
       "    <tr>\n",
       "      <th>6</th>\n",
       "      <td>i went on 1 date with her we just talked etc d...</td>\n",
       "      <td>Tinder</td>\n",
       "    </tr>\n",
       "    <tr>\n",
       "      <th>19</th>\n",
       "      <td>I have been on tinder for a while now \\nI matc...</td>\n",
       "      <td>Tinder</td>\n",
       "    </tr>\n",
       "    <tr>\n",
       "      <th>23</th>\n",
       "      <td>Ive had tinder for about a month and Im not su...</td>\n",
       "      <td>Tinder</td>\n",
       "    </tr>\n",
       "  </tbody>\n",
       "</table>\n",
       "</div>"
      ],
      "text/plain": [
       "                                                 text subreddit\n",
       "1   Ive lost my account and gotten it banned as we...    Tinder\n",
       "5   Even after girls numbers you still have to to ...    Tinder\n",
       "6   i went on 1 date with her we just talked etc d...    Tinder\n",
       "19  I have been on tinder for a while now \\nI matc...    Tinder\n",
       "23  Ive had tinder for about a month and Im not su...    Tinder"
      ]
     },
     "execution_count": 314,
     "metadata": {},
     "output_type": "execute_result"
    }
   ],
   "source": [
    "clean_tinder.head()"
   ]
  },
  {
   "cell_type": "code",
   "execution_count": 315,
   "id": "6eb56bc4-a7b7-4b5e-8bcd-1150161772e9",
   "metadata": {},
   "outputs": [],
   "source": [
    "# Run the cleaning function on the bumble file\n",
    "\n",
    "clean_bumble = clean_files(bumble)"
   ]
  },
  {
   "cell_type": "code",
   "execution_count": 316,
   "id": "46fc1206-696f-4ef4-afc8-fc17813e18a4",
   "metadata": {},
   "outputs": [
    {
     "data": {
      "text/html": [
       "<div>\n",
       "<style scoped>\n",
       "    .dataframe tbody tr th:only-of-type {\n",
       "        vertical-align: middle;\n",
       "    }\n",
       "\n",
       "    .dataframe tbody tr th {\n",
       "        vertical-align: top;\n",
       "    }\n",
       "\n",
       "    .dataframe thead th {\n",
       "        text-align: right;\n",
       "    }\n",
       "</style>\n",
       "<table border=\"1\" class=\"dataframe\">\n",
       "  <thead>\n",
       "    <tr style=\"text-align: right;\">\n",
       "      <th></th>\n",
       "      <th>text</th>\n",
       "      <th>subreddit</th>\n",
       "    </tr>\n",
       "  </thead>\n",
       "  <tbody>\n",
       "    <tr>\n",
       "      <th>2</th>\n",
       "      <td>Hello fellow Bumblers So Ive F31 messed up Mat...</td>\n",
       "      <td>Bumble</td>\n",
       "    </tr>\n",
       "    <tr>\n",
       "      <th>7</th>\n",
       "      <td>Using Bumble for 4 months and saw my report Ye...</td>\n",
       "      <td>Bumble</td>\n",
       "    </tr>\n",
       "    <tr>\n",
       "      <th>9</th>\n",
       "      <td>Im a Christian because its who I am not what I...</td>\n",
       "      <td>Bumble</td>\n",
       "    </tr>\n",
       "    <tr>\n",
       "      <th>10</th>\n",
       "      <td>I still try to make sense of dating apps My ne...</td>\n",
       "      <td>Bumble</td>\n",
       "    </tr>\n",
       "    <tr>\n",
       "      <th>11</th>\n",
       "      <td>Just wanted to know because i havent tried thi...</td>\n",
       "      <td>Bumble</td>\n",
       "    </tr>\n",
       "  </tbody>\n",
       "</table>\n",
       "</div>"
      ],
      "text/plain": [
       "                                                 text subreddit\n",
       "2   Hello fellow Bumblers So Ive F31 messed up Mat...    Bumble\n",
       "7   Using Bumble for 4 months and saw my report Ye...    Bumble\n",
       "9   Im a Christian because its who I am not what I...    Bumble\n",
       "10  I still try to make sense of dating apps My ne...    Bumble\n",
       "11  Just wanted to know because i havent tried thi...    Bumble"
      ]
     },
     "execution_count": 316,
     "metadata": {},
     "output_type": "execute_result"
    }
   ],
   "source": [
    "clean_bumble.head()"
   ]
  },
  {
   "cell_type": "code",
   "execution_count": 317,
   "id": "8e961e48-644e-41d5-9fdb-06b7864cd041",
   "metadata": {},
   "outputs": [],
   "source": [
    "# Count vectorize tinder data\n",
    "X_tinder = clean_tinder['text']\n",
    "\n",
    "stop_word_list = ['to', 'the', 'and', 'you', 'it', 'of', 'that', 'is', 'on', 'my', 'in', 'for', 'this', 'with', \n",
    "                  'but', 'me', 'not', 'have', 'just', 'if', 'so', 'like', 'or', 'are', 'be', 'what', 'was', 'your', \n",
    "                  'they', 'do', 'she', 'get', 'can', 'people', 'about', 'as', 'he', 'out', 'profile', 'how', 'up', \n",
    "                  'all', 'her', 'we', 'one', 'at', 'no', 'there', 'when', 'would', 'who', 'know', 'from',  'time', \n",
    "                  'them', 'think', 'more', 'some', 'had', 'an', 'good', 'someone', 'then', 'because', 'any', 'don',\n",
    "                  're', 've', 'right', 'matches', 'why', 'first', 'really', 'see', 'want', 'even', 'women', 'been', \n",
    "                  'im', 'dont', 'its', 'ive', 'only', 'date', 'now', 'youre', 'am', 'something', 'has']\n",
    "\n",
    "cvec = CountVectorizer(stop_words = stop_word_list)\n",
    "\n",
    "X_tinder_cv = cvec.fit_transform(X_tinder)"
   ]
  },
  {
   "cell_type": "code",
   "execution_count": 318,
   "id": "d9c5e846-bca6-4ac9-aece-9d00cba399fa",
   "metadata": {},
   "outputs": [
    {
     "data": {
      "image/png": "[encoded data removed]",
      "text/plain": [
       "<Figure size 720x504 with 1 Axes>"
      ]
     },
     "metadata": {
      "needs_background": "light"
     },
     "output_type": "display_data"
    }
   ],
   "source": [
    "# Convert tinder words to dataframe\n",
    "\n",
    "X_tinder_cv_df = pd.DataFrame(X_tinder_cv.todense(), columns = cvec.get_feature_names())\n",
    "\n",
    "# Plot most frequent words\n",
    "\n",
    "plt.figure(figsize = (10, 7))\n",
    "\n",
    "X_tinder_cv_df.sum().sort_values().tail(10).plot(kind = 'barh', color = 'crimson')\n",
    "plt.xlabel('Frequency')\n",
    "plt.ylabel('Words')\n",
    "plt.title('Frequency of Most Common Tinder words')\n",
    "plt.savefig('../images/tinder_words.png');"
   ]
  },
  {
   "cell_type": "code",
   "execution_count": 319,
   "id": "7bf2f68c-5fb7-42a6-b295-149fad95725b",
   "metadata": {},
   "outputs": [],
   "source": [
    "# List of most common tinder words\n",
    "\n",
    "tinder_common_list = list(X_tinder_cv_df.sum().sort_values(ascending = False).head(20).index)"
   ]
  },
  {
   "cell_type": "code",
   "execution_count": 320,
   "id": "4670cc80-5c1e-43de-b656-8057e219464b",
   "metadata": {},
   "outputs": [],
   "source": [
    "# Count vectorize bumble data\n",
    "X_bumble = clean_bumble['text']\n",
    "\n",
    "stop_word_list = ['to', 'the', 'and', 'you', 'it', 'of', 'that', 'is', 'on', 'my', 'in', 'for', 'this', 'with', \n",
    "                  'but', 'me', 'not', 'have', 'just', 'if', 'so', 'like', 'or', 'are', 'be', 'what', 'was', 'your', \n",
    "                  'they', 'do', 'she', 'get', 'can', 'people', 'about', 'as', 'he', 'out', 'profile', 'how', 'up', \n",
    "                  'all', 'her', 'we', 'one', 'at', 'no', 'there', 'when', 'would', 'who', 'know', 'from',  'time', \n",
    "                  'them', 'think', 'more', 'some', 'had', 'an', 'good', 'someone', 'then', 'because', 'any', 'don',\n",
    "                 're', 've', 'right', 'matches', 'why', 'first', 'really', 'see', 'want', 'even', 'women', 'been',\n",
    "                 'im', 'dont', 'its', 'ive', 'only', 'date', 'now', 'youre', 'am', 'something', 'has']\n",
    "\n",
    "cvec = CountVectorizer(stop_words = stop_word_list)\n",
    "\n",
    "X_bumble_cv = cvec.fit_transform(X_bumble)"
   ]
  },
  {
   "cell_type": "code",
   "execution_count": 321,
   "id": "cb0fa3de-9c45-4e11-89ce-85a51d272bd4",
   "metadata": {},
   "outputs": [
    {
     "data": {
      "image/png": "[encoded data removed]",
      "text/plain": [
       "<Figure size 720x504 with 1 Axes>"
      ]
     },
     "metadata": {
      "needs_background": "light"
     },
     "output_type": "display_data"
    }
   ],
   "source": [
    "# Convert bumble words to dataframe\n",
    "\n",
    "X_bumble_cv_df = pd.DataFrame(X_bumble_cv.todense(), columns = cvec.get_feature_names())\n",
    "\n",
    "# Plot most frequent words\n",
    "\n",
    "plt.figure(figsize = (10, 7))\n",
    "\n",
    "X_bumble_cv_df.sum().sort_values().tail(10).plot(kind = 'barh', color = 'gold')\n",
    "plt.xlabel('Frequency')\n",
    "plt.ylabel('Words')\n",
    "plt.title('Frequency of Most Common Bumble words')\n",
    "plt.savefig('../images/bumble_words.png');"
   ]
  },
  {
   "cell_type": "code",
   "execution_count": 322,
   "id": "42af064a-b835-45cd-8ca4-cc668002e6b4",
   "metadata": {},
   "outputs": [],
   "source": [
    "# List of most common bumble words\n",
    "\n",
    "bumble_common_list = list(X_bumble_cv_df.sum().sort_values(ascending = False).head(20).index)"
   ]
  },
  {
   "cell_type": "code",
   "execution_count": 323,
   "id": "e198679f-7f41-4f51-b705-4c0042d28bcc",
   "metadata": {},
   "outputs": [
    {
     "name": "stdout",
     "output_type": "stream",
     "text": [
      "bumble\n",
      "app\n",
      "dating\n",
      "guy\n",
      "other\n",
      "back\n",
      "person\n",
      "never\n",
      "him\n",
      "message\n"
     ]
    }
   ],
   "source": [
    "# Remove the words that are common in both list to create a better list of stop words\n",
    "\n",
    "for word in bumble_common_list:\n",
    "    if word not in tinder_common_list:\n",
    "        print(word)"
   ]
  },
  {
   "cell_type": "code",
   "execution_count": 324,
   "id": "cd7f3d12-49d3-4e7b-89ac-4ad79aef1c72",
   "metadata": {},
   "outputs": [],
   "source": [
    "# Combine both files into one data set\n",
    "\n",
    "files = [clean_tinder, clean_bumble]\n",
    "\n",
    "combined = pd.concat(files, axis = 0, ignore_index=True)"
   ]
  },
  {
   "cell_type": "code",
   "execution_count": 325,
   "id": "2e586fdb-7b4f-4f24-bc1b-c33687784034",
   "metadata": {},
   "outputs": [
    {
     "data": {
      "text/html": [
       "<div>\n",
       "<style scoped>\n",
       "    .dataframe tbody tr th:only-of-type {\n",
       "        vertical-align: middle;\n",
       "    }\n",
       "\n",
       "    .dataframe tbody tr th {\n",
       "        vertical-align: top;\n",
       "    }\n",
       "\n",
       "    .dataframe thead th {\n",
       "        text-align: right;\n",
       "    }\n",
       "</style>\n",
       "<table border=\"1\" class=\"dataframe\">\n",
       "  <thead>\n",
       "    <tr style=\"text-align: right;\">\n",
       "      <th></th>\n",
       "      <th>text</th>\n",
       "      <th>subreddit</th>\n",
       "    </tr>\n",
       "  </thead>\n",
       "  <tbody>\n",
       "    <tr>\n",
       "      <th>0</th>\n",
       "      <td>Ive lost my account and gotten it banned as we...</td>\n",
       "      <td>Tinder</td>\n",
       "    </tr>\n",
       "    <tr>\n",
       "      <th>1</th>\n",
       "      <td>Even after girls numbers you still have to to ...</td>\n",
       "      <td>Tinder</td>\n",
       "    </tr>\n",
       "    <tr>\n",
       "      <th>2</th>\n",
       "      <td>i went on 1 date with her we just talked etc d...</td>\n",
       "      <td>Tinder</td>\n",
       "    </tr>\n",
       "    <tr>\n",
       "      <th>3</th>\n",
       "      <td>I have been on tinder for a while now \\nI matc...</td>\n",
       "      <td>Tinder</td>\n",
       "    </tr>\n",
       "    <tr>\n",
       "      <th>4</th>\n",
       "      <td>Ive had tinder for about a month and Im not su...</td>\n",
       "      <td>Tinder</td>\n",
       "    </tr>\n",
       "    <tr>\n",
       "      <th>...</th>\n",
       "      <td>...</td>\n",
       "      <td>...</td>\n",
       "    </tr>\n",
       "    <tr>\n",
       "      <th>22901</th>\n",
       "      <td>Yeah I feel like Im pretty corky tbh</td>\n",
       "      <td>Bumble</td>\n",
       "    </tr>\n",
       "    <tr>\n",
       "      <th>22902</th>\n",
       "      <td>Does this app give you fake likes</td>\n",
       "      <td>Bumble</td>\n",
       "    </tr>\n",
       "    <tr>\n",
       "      <th>22903</th>\n",
       "      <td>Why no responses</td>\n",
       "      <td>Bumble</td>\n",
       "    </tr>\n",
       "    <tr>\n",
       "      <th>22904</th>\n",
       "      <td>Another lass enjoying all bumble has to offer</td>\n",
       "      <td>Bumble</td>\n",
       "    </tr>\n",
       "    <tr>\n",
       "      <th>22905</th>\n",
       "      <td>Yes Im aware she might not send me a second me...</td>\n",
       "      <td>Bumble</td>\n",
       "    </tr>\n",
       "  </tbody>\n",
       "</table>\n",
       "<p>22906 rows × 2 columns</p>\n",
       "</div>"
      ],
      "text/plain": [
       "                                                    text subreddit\n",
       "0      Ive lost my account and gotten it banned as we...    Tinder\n",
       "1      Even after girls numbers you still have to to ...    Tinder\n",
       "2      i went on 1 date with her we just talked etc d...    Tinder\n",
       "3      I have been on tinder for a while now \\nI matc...    Tinder\n",
       "4      Ive had tinder for about a month and Im not su...    Tinder\n",
       "...                                                  ...       ...\n",
       "22901               Yeah I feel like Im pretty corky tbh    Bumble\n",
       "22902                  Does this app give you fake likes    Bumble\n",
       "22903                                  Why no responses     Bumble\n",
       "22904      Another lass enjoying all bumble has to offer    Bumble\n",
       "22905  Yes Im aware she might not send me a second me...    Bumble\n",
       "\n",
       "[22906 rows x 2 columns]"
      ]
     },
     "execution_count": 325,
     "metadata": {},
     "output_type": "execute_result"
    }
   ],
   "source": [
    "combined"
   ]
  },
  {
   "cell_type": "code",
   "execution_count": 326,
   "id": "d7376ab3-dc4e-4fa5-a235-afdf991669e2",
   "metadata": {},
   "outputs": [
    {
     "data": {
      "text/plain": [
       "Bumble    0.519165\n",
       "Tinder    0.480835\n",
       "Name: subreddit, dtype: float64"
      ]
     },
     "execution_count": 326,
     "metadata": {},
     "output_type": "execute_result"
    }
   ],
   "source": [
    "# View the probability of picking one or the other by chance (null model)\n",
    "\n",
    "combined['subreddit'].value_counts(normalize = True)"
   ]
  },
  {
   "cell_type": "code",
   "execution_count": 327,
   "id": "daeb0c64-7742-46f5-9056-116bb234c8f7",
   "metadata": {},
   "outputs": [],
   "source": [
    "# Turn Tinder and Bumble into 1 and 0 for modeling\n",
    "\n",
    "combined['subreddit'] = combined['subreddit'].map({'Tinder': 1, 'Bumble': 0})"
   ]
  },
  {
   "cell_type": "code",
   "execution_count": 328,
   "id": "5c6b58bc-8c97-4a47-8d52-8ca03e2ea780",
   "metadata": {},
   "outputs": [
    {
     "data": {
      "text/html": [
       "<div>\n",
       "<style scoped>\n",
       "    .dataframe tbody tr th:only-of-type {\n",
       "        vertical-align: middle;\n",
       "    }\n",
       "\n",
       "    .dataframe tbody tr th {\n",
       "        vertical-align: top;\n",
       "    }\n",
       "\n",
       "    .dataframe thead th {\n",
       "        text-align: right;\n",
       "    }\n",
       "</style>\n",
       "<table border=\"1\" class=\"dataframe\">\n",
       "  <thead>\n",
       "    <tr style=\"text-align: right;\">\n",
       "      <th></th>\n",
       "      <th>text</th>\n",
       "      <th>subreddit</th>\n",
       "    </tr>\n",
       "  </thead>\n",
       "  <tbody>\n",
       "    <tr>\n",
       "      <th>0</th>\n",
       "      <td>Ive lost my account and gotten it banned as we...</td>\n",
       "      <td>1</td>\n",
       "    </tr>\n",
       "    <tr>\n",
       "      <th>1</th>\n",
       "      <td>Even after girls numbers you still have to to ...</td>\n",
       "      <td>1</td>\n",
       "    </tr>\n",
       "    <tr>\n",
       "      <th>2</th>\n",
       "      <td>i went on 1 date with her we just talked etc d...</td>\n",
       "      <td>1</td>\n",
       "    </tr>\n",
       "    <tr>\n",
       "      <th>3</th>\n",
       "      <td>I have been on tinder for a while now \\nI matc...</td>\n",
       "      <td>1</td>\n",
       "    </tr>\n",
       "    <tr>\n",
       "      <th>4</th>\n",
       "      <td>Ive had tinder for about a month and Im not su...</td>\n",
       "      <td>1</td>\n",
       "    </tr>\n",
       "  </tbody>\n",
       "</table>\n",
       "</div>"
      ],
      "text/plain": [
       "                                                text  subreddit\n",
       "0  Ive lost my account and gotten it banned as we...          1\n",
       "1  Even after girls numbers you still have to to ...          1\n",
       "2  i went on 1 date with her we just talked etc d...          1\n",
       "3  I have been on tinder for a while now \\nI matc...          1\n",
       "4  Ive had tinder for about a month and Im not su...          1"
      ]
     },
     "execution_count": 328,
     "metadata": {},
     "output_type": "execute_result"
    }
   ],
   "source": [
    "combined.head()"
   ]
  },
  {
   "cell_type": "code",
   "execution_count": 329,
   "id": "83885990-f52e-4fde-b55b-df7e5fbc04d2",
   "metadata": {},
   "outputs": [
    {
     "data": {
      "text/plain": [
       "(22906, 2)"
      ]
     },
     "execution_count": 329,
     "metadata": {},
     "output_type": "execute_result"
    }
   ],
   "source": [
    "combined.shape"
   ]
  },
  {
   "cell_type": "code",
   "execution_count": 330,
   "id": "e7f211df-4d75-4525-835c-59e97233378d",
   "metadata": {},
   "outputs": [],
   "source": [
    "# Create a column to store the length of the posts\n",
    "\n",
    "# Create empty list to store the lengths\n",
    "post_length = []\n",
    "\n",
    "# For each post capture the length in the new list\n",
    "for i in range(0, combined.shape[0]):\n",
    "    length = len(combined['text'][i])\n",
    "    post_length.append(length)\n",
    "\n",
    "# Assign the new column to the length list\n",
    "combined['post_length'] = post_length"
   ]
  },
  {
   "cell_type": "code",
   "execution_count": 331,
   "id": "f9418680-8fd8-4036-9ac6-79fb76546b79",
   "metadata": {},
   "outputs": [
    {
     "data": {
      "text/html": [
       "<div>\n",
       "<style scoped>\n",
       "    .dataframe tbody tr th:only-of-type {\n",
       "        vertical-align: middle;\n",
       "    }\n",
       "\n",
       "    .dataframe tbody tr th {\n",
       "        vertical-align: top;\n",
       "    }\n",
       "\n",
       "    .dataframe thead th {\n",
       "        text-align: right;\n",
       "    }\n",
       "</style>\n",
       "<table border=\"1\" class=\"dataframe\">\n",
       "  <thead>\n",
       "    <tr style=\"text-align: right;\">\n",
       "      <th></th>\n",
       "      <th>text</th>\n",
       "      <th>subreddit</th>\n",
       "      <th>post_length</th>\n",
       "    </tr>\n",
       "  </thead>\n",
       "  <tbody>\n",
       "    <tr>\n",
       "      <th>829</th>\n",
       "      <td>D</td>\n",
       "      <td>1</td>\n",
       "      <td>1</td>\n",
       "    </tr>\n",
       "    <tr>\n",
       "      <th>898</th>\n",
       "      <td>X</td>\n",
       "      <td>1</td>\n",
       "      <td>1</td>\n",
       "    </tr>\n",
       "    <tr>\n",
       "      <th>1140</th>\n",
       "      <td>D</td>\n",
       "      <td>1</td>\n",
       "      <td>1</td>\n",
       "    </tr>\n",
       "    <tr>\n",
       "      <th>1919</th>\n",
       "      <td>O</td>\n",
       "      <td>1</td>\n",
       "      <td>1</td>\n",
       "    </tr>\n",
       "    <tr>\n",
       "      <th>1988</th>\n",
       "      <td>P</td>\n",
       "      <td>1</td>\n",
       "      <td>1</td>\n",
       "    </tr>\n",
       "    <tr>\n",
       "      <th>2054</th>\n",
       "      <td>f</td>\n",
       "      <td>1</td>\n",
       "      <td>1</td>\n",
       "    </tr>\n",
       "    <tr>\n",
       "      <th>2555</th>\n",
       "      <td>D</td>\n",
       "      <td>1</td>\n",
       "      <td>1</td>\n",
       "    </tr>\n",
       "    <tr>\n",
       "      <th>2971</th>\n",
       "      <td>D</td>\n",
       "      <td>1</td>\n",
       "      <td>1</td>\n",
       "    </tr>\n",
       "    <tr>\n",
       "      <th>2979</th>\n",
       "      <td>a</td>\n",
       "      <td>1</td>\n",
       "      <td>1</td>\n",
       "    </tr>\n",
       "    <tr>\n",
       "      <th>3987</th>\n",
       "      <td>2</td>\n",
       "      <td>1</td>\n",
       "      <td>1</td>\n",
       "    </tr>\n",
       "    <tr>\n",
       "      <th>4136</th>\n",
       "      <td>F</td>\n",
       "      <td>1</td>\n",
       "      <td>1</td>\n",
       "    </tr>\n",
       "    <tr>\n",
       "      <th>4176</th>\n",
       "      <td>D</td>\n",
       "      <td>1</td>\n",
       "      <td>1</td>\n",
       "    </tr>\n",
       "    <tr>\n",
       "      <th>4314</th>\n",
       "      <td>F</td>\n",
       "      <td>1</td>\n",
       "      <td>1</td>\n",
       "    </tr>\n",
       "    <tr>\n",
       "      <th>5992</th>\n",
       "      <td>B</td>\n",
       "      <td>1</td>\n",
       "      <td>1</td>\n",
       "    </tr>\n",
       "    <tr>\n",
       "      <th>6873</th>\n",
       "      <td>Y</td>\n",
       "      <td>1</td>\n",
       "      <td>1</td>\n",
       "    </tr>\n",
       "    <tr>\n",
       "      <th>9050</th>\n",
       "      <td>D</td>\n",
       "      <td>1</td>\n",
       "      <td>1</td>\n",
       "    </tr>\n",
       "    <tr>\n",
       "      <th>9142</th>\n",
       "      <td></td>\n",
       "      <td>1</td>\n",
       "      <td>1</td>\n",
       "    </tr>\n",
       "    <tr>\n",
       "      <th>9340</th>\n",
       "      <td>A</td>\n",
       "      <td>1</td>\n",
       "      <td>1</td>\n",
       "    </tr>\n",
       "    <tr>\n",
       "      <th>10257</th>\n",
       "      <td>F</td>\n",
       "      <td>1</td>\n",
       "      <td>1</td>\n",
       "    </tr>\n",
       "    <tr>\n",
       "      <th>14028</th>\n",
       "      <td>L</td>\n",
       "      <td>0</td>\n",
       "      <td>1</td>\n",
       "    </tr>\n",
       "    <tr>\n",
       "      <th>16261</th>\n",
       "      <td>Y</td>\n",
       "      <td>0</td>\n",
       "      <td>1</td>\n",
       "    </tr>\n",
       "    <tr>\n",
       "      <th>18045</th>\n",
       "      <td>D</td>\n",
       "      <td>0</td>\n",
       "      <td>1</td>\n",
       "    </tr>\n",
       "  </tbody>\n",
       "</table>\n",
       "</div>"
      ],
      "text/plain": [
       "      text  subreddit  post_length\n",
       "829      D          1            1\n",
       "898      X          1            1\n",
       "1140     D          1            1\n",
       "1919     O          1            1\n",
       "1988     P          1            1\n",
       "2054     f          1            1\n",
       "2555     D          1            1\n",
       "2971     D          1            1\n",
       "2979     a          1            1\n",
       "3987     2          1            1\n",
       "4136     F          1            1\n",
       "4176     D          1            1\n",
       "4314     F          1            1\n",
       "5992     B          1            1\n",
       "6873     Y          1            1\n",
       "9050     D          1            1\n",
       "9142                1            1\n",
       "9340     A          1            1\n",
       "10257    F          1            1\n",
       "14028    L          0            1\n",
       "16261    Y          0            1\n",
       "18045    D          0            1"
      ]
     },
     "execution_count": 331,
     "metadata": {},
     "output_type": "execute_result"
    }
   ],
   "source": [
    "combined[combined['post_length'] == 1]"
   ]
  },
  {
   "cell_type": "code",
   "execution_count": 332,
   "id": "7ea2e30f-42bd-478c-b102-3768f20a684e",
   "metadata": {},
   "outputs": [],
   "source": [
    "# Drop posts where the post is just 1 character\n",
    "\n",
    "combined = combined[combined['post_length'] > 1]"
   ]
  },
  {
   "cell_type": "code",
   "execution_count": 333,
   "id": "84b56809-3f8f-4d46-a71a-27d1225e5070",
   "metadata": {},
   "outputs": [
    {
     "data": {
      "image/png": "[encoded data removed]",
      "text/plain": [
       "<Figure size 720x504 with 1 Axes>"
      ]
     },
     "metadata": {
      "needs_background": "light"
     },
     "output_type": "display_data"
    }
   ],
   "source": [
    "# Visualize the distribution of the posts\n",
    "\n",
    "plt.figure(figsize = (10, 7))\n",
    "\n",
    "sns.histplot(combined['post_length'], color = 'red')\n",
    "plt.title('Distribution of Post Lengths')\n",
    "plt.xlabel('Length of Post')\n",
    "plt.ylabel('Number of Posts');"
   ]
  },
  {
   "cell_type": "code",
   "execution_count": 334,
   "id": "273c0f34-83ca-4d3c-8a24-5c5354c96ae3",
   "metadata": {},
   "outputs": [],
   "source": [
    "combined.to_csv('../data/combined_clean.csv', index = False)"
   ]
  },
  {
   "cell_type": "code",
   "execution_count": null,
   "id": "ca9dba7b-1c1d-4fb9-8721-766c2f12fc98",
   "metadata": {},
   "outputs": [],
   "source": []
  }
 ],
 "metadata": {
  "kernelspec": {
   "display_name": "Python 3",
   "language": "python",
   "name": "python3"
  },
  "language_info": {
   "codemirror_mode": {
    "name": "ipython",
    "version": 3
   },
   "file_extension": ".py",
   "mimetype": "text/x-python",
   "name": "python",
   "nbconvert_exporter": "python",
   "pygments_lexer": "ipython3",
   "version": "3.8.10"
  }
 },
 "nbformat": 4,
 "nbformat_minor": 5
}
