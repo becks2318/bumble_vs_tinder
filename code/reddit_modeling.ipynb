{
 "cells": [
  {
   "cell_type": "code",
   "execution_count": 182,
   "id": "99114ed7-9cd8-432d-85ed-ae7ca147c753",
   "metadata": {},
   "outputs": [],
   "source": [
    "import pandas as pd\n",
    "import numpy as np\n",
    "import matplotlib.pyplot as plt\n",
    "import seaborn as sns\n",
    "\n",
    "from sklearn.model_selection import train_test_split, GridSearchCV, cross_val_score, RandomizedSearchCV\n",
    "from sklearn.pipeline import Pipeline\n",
    "from sklearn.naive_bayes import MultinomialNB, BernoulliNB\n",
    "from sklearn.linear_model import LogisticRegression\n",
    "from sklearn.metrics import confusion_matrix, ConfusionMatrixDisplay, accuracy_score, plot_confusion_matrix\n",
    "from sklearn.feature_extraction.text import CountVectorizer\n",
    "\n",
    "from sklearn.svm import SVC\n",
    "from sklearn.ensemble import RandomForestClassifier, GradientBoostingClassifier\n",
    "\n",
    "from xgboost import XGBClassifier\n",
    "\n",
    "from scipy.stats import uniform, loguniform\n",
    "\n",
    "from skopt.space import Integer, Real, Categorical\n",
    "from skopt import BayesSearchCV"
   ]
  },
  {
   "cell_type": "code",
   "execution_count": 133,
   "id": "2eca9a71-0de8-4acb-8db4-9fbaf92ad111",
   "metadata": {},
   "outputs": [],
   "source": [
    "# Clean up warnings for presentation\n",
    "\n",
    "import warnings\n",
    "warnings.filterwarnings(\"ignore\")"
   ]
  },
  {
   "cell_type": "code",
   "execution_count": 183,
   "id": "e722eed1-49ed-4a21-98e5-50ab5d7b0ab4",
   "metadata": {},
   "outputs": [],
   "source": [
    "combined = pd.read_csv('../data/combined_clean.csv')"
   ]
  },
  {
   "cell_type": "code",
   "execution_count": 184,
   "id": "5a3b6cf6-df75-4dae-96c4-8c072c5e4d6b",
   "metadata": {},
   "outputs": [],
   "source": [
    "# Set up X and y\n",
    "\n",
    "X = combined['text']\n",
    "\n",
    "y = combined['subreddit']"
   ]
  },
  {
   "cell_type": "markdown",
   "id": "18b8cab8-7b88-4aef-9116-e9e2f5f1f27e",
   "metadata": {},
   "source": [
    "#### Review Count Vectorized Data"
   ]
  },
  {
   "cell_type": "code",
   "execution_count": 185,
   "id": "11ae3246-6582-4324-af2f-a3fb8b65df00",
   "metadata": {},
   "outputs": [],
   "source": [
    "# Count vectorize data\n",
    "\n",
    "stop_word_list = ['to', 'the', 'and', 'you', 'it', 'of', 'that', 'is', 'on', 'my', 'in', 'for', 'this', 'with', \n",
    "                  'but', 'me', 'not', 'have', 'just', 'if', 'so', 'like', 'or', 'are', 'be', 'what', 'was', 'your', \n",
    "                  'they', 'do', 'she', 'get', 'can', 'people', 'about', 'as', 'he', 'out', 'profile', 'how', 'up', \n",
    "                  'all', 'her', 'we', 'one', 'at', 'no', 'there', 'when', 'would', 'who', 'know', 'from',  'time', \n",
    "                  'them', 'think', 'more', 'some', 'had', 'an', 'good', 'someone', 'then', 'because', 'any', 'don',\n",
    "                  're', 've', 'right', 'matches', 'why', 'first', 'really', 'see', 'want', 'even', 'women', 'been',\n",
    "                 'im', 'dont', 'its', 'ive', 'only', 'date', 'now', 'youre', 'am', 'something', 'has']\n",
    "\n",
    "cvec = CountVectorizer(stop_words = stop_word_list)\n",
    "\n",
    "X_cv = cvec.fit_transform(X)"
   ]
  },
  {
   "cell_type": "code",
   "execution_count": 195,
   "id": "c3e72c7c-0d2b-42c9-aac1-e786f22c1557",
   "metadata": {},
   "outputs": [
    {
     "data": {
      "image/png": "[encoded data removed]",
      "text/plain": [
       "<Figure size 720x504 with 1 Axes>"
      ]
     },
     "metadata": {
      "needs_background": "light"
     },
     "output_type": "display_data"
    }
   ],
   "source": [
    "# Convert training data to dataframe\n",
    "\n",
    "X_cv_df = pd.DataFrame(X_cv.todense(), columns = cvec.get_feature_names())\n",
    "\n",
    "# Plot most frequent words\n",
    "\n",
    "plt.figure(figsize = (10, 7))\n",
    "\n",
    "X_cv_df.sum().sort_values().tail(20).plot(kind = 'barh')\n",
    "plt.xlabel('Frequency')\n",
    "plt.ylabel('Words')\n",
    "plt.title('Frequency of most commonly found words')\n",
    "plt.savefig('../images/combined.png');"
   ]
  },
  {
   "cell_type": "markdown",
   "id": "9d34ec57-78c5-4551-a61f-286099ab086e",
   "metadata": {},
   "source": [
    "Create my own list of stop words based on frequency in the corpus: 'to', 'the', 'and', 'you', 'it', 'of', 'that', 'is', 'on', 'my', 'in', 'for', 'this', 'with', 'but', 'me', 'not', 'have', 'just', 'if', 'so', 'like', 'or', 'are', 'be', 'what', 'was', 'your', 'they', 'do', 'she', 'get', 'can', 'people', 'about', 'as', 'he', 'out', 'profile', 'how', 'up', 'all', 'her', 'we', 'one', 'at', 'no', 'there', 'when', 'would', 'who', 'know', 'from', 'time', 'them', 'think', 'more', 'some', 'had', 'an', 'good', 'someone', 'then', 'because', 'any', 'don', 're', 've', 'right', 'matches', 'why', 'first', 'really', 'see', 'want', 'even', 'women', 'been', 'im', 'dont', 'its', 'ive', 'only', 'date', 'now', 'youre', 'am', 'something', 'has'"
   ]
  },
  {
   "cell_type": "code",
   "execution_count": 6,
   "id": "600a4055-e1fa-424b-af2f-c5bb67d0ff84",
   "metadata": {},
   "outputs": [],
   "source": [
    "# Create a dataframe to store model results\n",
    "\n",
    "column_names = ['model', 'best_params', 'training_score', 'test_score']\n",
    "\n",
    "model_df = pd.DataFrame(columns = column_names)"
   ]
  },
  {
   "cell_type": "markdown",
   "id": "357eba7e-3c19-4285-a182-fc8b56b620a5",
   "metadata": {},
   "source": [
    "#### Set up Train/Test Split"
   ]
  },
  {
   "cell_type": "code",
   "execution_count": 187,
   "id": "f08710e3-49e5-4995-9168-b163f75b0fc5",
   "metadata": {},
   "outputs": [],
   "source": [
    "# Set up train test split\n",
    "\n",
    "X_train, X_test, y_train, y_test = train_test_split(X, y, stratify=y, random_state=42)"
   ]
  },
  {
   "cell_type": "markdown",
   "id": "f5b592e4-7c9e-48ec-961a-c256fb18f676",
   "metadata": {},
   "source": [
    "#### Create Functions to View Model Results and Add to DataFrame"
   ]
  },
  {
   "cell_type": "code",
   "execution_count": 99,
   "id": "579b8f5f-a53d-4896-ac2c-529612e0fcff",
   "metadata": {},
   "outputs": [],
   "source": [
    "# Create function to view/store model results\n",
    "\n",
    "def results(model):\n",
    "    best_params = model.best_params_\n",
    "    train_score = model.score(X_train, y_train)\n",
    "    test_score = model.score(X_test, y_test)\n",
    "    \n",
    "    print(f'Best parameters: {best_params}')\n",
    "    print(f'Training score: {train_score}')\n",
    "    print(f'Test score: {test_score}')\n"
   ]
  },
  {
   "cell_type": "code",
   "execution_count": 96,
   "id": "4fc94089-021b-4c53-a8be-c9e739653e9e",
   "metadata": {},
   "outputs": [],
   "source": [
    "# Create function to add results to model df\n",
    "\n",
    "def add_to_model(df, model, name):\n",
    "    df = df.append({'model': name,\n",
    "                'best_params': model.best_params_,\n",
    "                'training_score': model.score(X_train, y_train),\n",
    "                'test_score': model.score(X_test, y_test)},\n",
    "                ignore_index = True)\n",
    "    return df"
   ]
  },
  {
   "cell_type": "markdown",
   "id": "3a962690-df70-42e4-afb3-446c098eb2c2",
   "metadata": {},
   "source": [
    "#### Support Vector Model"
   ]
  },
  {
   "cell_type": "code",
   "execution_count": 209,
   "id": "3050863b-9bc2-4bea-8f12-d133dc5eb08d",
   "metadata": {},
   "outputs": [],
   "source": [
    "# Create pipeline to instantiate models\n",
    "\n",
    "pipe_svc = Pipeline([\n",
    "    ('cvec', CountVectorizer(stop_words = stop_word_list, ngram_range = (1, 2))),\n",
    "    ('svc', SVC(kernel = 'poly', gamma = 'scale', degree = 2, shrinking = False, random_state = 42))\n",
    "])"
   ]
  },
  {
   "cell_type": "code",
   "execution_count": 210,
   "id": "0ab0313f-50fd-4fcf-aae0-075f975a0ef5",
   "metadata": {},
   "outputs": [],
   "source": [
    "# Create parameters for pipeline\n",
    "\n",
    "pipe_params_svc = {\n",
    "    'cvec__max_features': Integer(10_000, 15_000),\n",
    "    'cvec__min_df'      : Integer(2, 3),\n",
    "    'cvec__max_df'      : Real(.9, .95),\n",
    "    'svc__C'            : Real(1e-5, 1e+2, prior='log-uniform'),\n",
    "    'svc__coef0'        : Real(0,1, prior='uniform') \n",
    "}"
   ]
  },
  {
   "cell_type": "code",
   "execution_count": 211,
   "id": "db8ce62d-4fe4-4f77-b191-cb48a0ead8e7",
   "metadata": {},
   "outputs": [],
   "source": [
    "# Create bayes model to run SVC\n",
    "\n",
    "bs_svc = BayesSearchCV(estimator = pipe_svc,\n",
    "                       search_spaces = pipe_params_svc,\n",
    "                       scoring = 'f1_weighted',\n",
    "                       n_iter = 5,\n",
    "                       cv = 5,\n",
    "                       random_state = 42)"
   ]
  },
  {
   "cell_type": "code",
   "execution_count": 212,
   "id": "c82a3371-9d56-44fb-9464-2a19cc7d0287",
   "metadata": {},
   "outputs": [
    {
     "data": {
      "text/plain": [
       "BayesSearchCV(cv=5,\n",
       "              estimator=Pipeline(steps=[('cvec',\n",
       "                                         CountVectorizer(ngram_range=(1, 2),\n",
       "                                                         stop_words=['to',\n",
       "                                                                     'the',\n",
       "                                                                     'and',\n",
       "                                                                     'you',\n",
       "                                                                     'it', 'of',\n",
       "                                                                     'that',\n",
       "                                                                     'is', 'on',\n",
       "                                                                     'my', 'in',\n",
       "                                                                     'for',\n",
       "                                                                     'this',\n",
       "                                                                     'with',\n",
       "                                                                     'but',\n",
       "                                                                     'me',\n",
       "                                                                     'not',\n",
       "                                                                     'have',\n",
       "                                                                     'just',\n",
       "                                                                     'if', 'so',\n",
       "                                                                     'like',\n",
       "                                                                     'or',\n",
       "                                                                     'are',\n",
       "                                                                     'be',\n",
       "                                                                     'what',\n",
       "                                                                     'was',\n",
       "                                                                     'your',\n",
       "                                                                     'they',\n",
       "                                                                     'do', ...])),\n",
       "                                        ('svc',\n",
       "                                         SVC(degree=2, kernel='poly',\n",
       "                                             random_state=42,\n",
       "                                             shrinking=False))]...\n",
       "              search_spaces={'cvec__max_df': Real(low=0.9, high=0.95, prior='uniform', transform='identity'),\n",
       "                             'cvec__max_features': Integer(low=10000, high=15000, prior='uniform', transform='identity'),\n",
       "                             'cvec__min_df': Integer(low=2, high=3, prior='uniform', transform='identity'),\n",
       "                             'svc__C': Real(low=1e-05, high=100.0, prior='log-uniform', transform='identity'),\n",
       "                             'svc__coef0': Real(low=0, high=1, prior='uniform', transform='identity')})"
      ]
     },
     "execution_count": 212,
     "metadata": {},
     "output_type": "execute_result"
    }
   ],
   "source": [
    "# Fit model to training data\n",
    "\n",
    "bs_svc.fit(X_train, y_train)"
   ]
  },
  {
   "cell_type": "code",
   "execution_count": 213,
   "id": "eb771cbd-53df-411c-bcae-97c26e6ea6a5",
   "metadata": {},
   "outputs": [
    {
     "name": "stdout",
     "output_type": "stream",
     "text": [
      "Best parameters: OrderedDict([('cvec__max_df', 0.9406197994178681), ('cvec__max_features', 10859), ('cvec__min_df', 3), ('svc__C', 4.162492539230118), ('svc__coef0', 0.5230523280543836)])\n",
      "Training score: 0.8823917078209427\n",
      "Test score: 0.6838184451202158\n"
     ]
    }
   ],
   "source": [
    "# View results of model\n",
    "\n",
    "results(bs_svc)"
   ]
  },
  {
   "cell_type": "code",
   "execution_count": 214,
   "id": "bef70591-8d49-4d3e-87f1-8b2d239886dc",
   "metadata": {},
   "outputs": [],
   "source": [
    "# Append the results of this run to the model data frame\n",
    "\n",
    "model_df = add_to_model(model_df, bs_svc, 'svc')"
   ]
  },
  {
   "cell_type": "markdown",
   "id": "2de96de3-336c-4cb5-9262-9f9bd2993fd1",
   "metadata": {},
   "source": [
    "#### Bernoulli model"
   ]
  },
  {
   "cell_type": "code",
   "execution_count": 203,
   "id": "79aafb3f-2a82-42af-a2c7-5df6a1661fb5",
   "metadata": {},
   "outputs": [],
   "source": [
    "# Create pipeline to instantiate models\n",
    "\n",
    "pipe_nb = Pipeline([\n",
    "    ('cvec', CountVectorizer(stop_words=stop_word_list)),\n",
    "    ('nb', BernoulliNB())\n",
    "])"
   ]
  },
  {
   "cell_type": "code",
   "execution_count": 204,
   "id": "3a50f81d-121e-49a9-86f4-0cd8ff529f24",
   "metadata": {},
   "outputs": [],
   "source": [
    "# Set up pipeline parameters\n",
    "\n",
    "pipe_params_nb = {\n",
    "    'cvec__max_features': Integer(5_000, 10_000),\n",
    "    'cvec__min_df'      : Integer(1, 3),\n",
    "    'cvec__max_df'      : Real(.85, .95),\n",
    "    'nb__alpha'         : Real(0.0001, 1.0)\n",
    "}\n"
   ]
  },
  {
   "cell_type": "code",
   "execution_count": 205,
   "id": "9ac378ef-6933-426c-acc5-9fc34cf5d7e0",
   "metadata": {},
   "outputs": [],
   "source": [
    "# Create bayes model to run bernoulli\n",
    "\n",
    "bs_nb = BayesSearchCV(estimator = pipe_nb,\n",
    "                       search_spaces = pipe_params_nb,\n",
    "                       scoring = 'f1_weighted',\n",
    "                       n_iter = 50,\n",
    "                       cv = 5,\n",
    "                       random_state = 42)"
   ]
  },
  {
   "cell_type": "code",
   "execution_count": 206,
   "id": "f443c219-4f5f-489a-b22e-cbc50168f22b",
   "metadata": {},
   "outputs": [
    {
     "data": {
      "text/plain": [
       "BayesSearchCV(cv=5,\n",
       "              estimator=Pipeline(steps=[('cvec',\n",
       "                                         CountVectorizer(ngram_range=(2, 2),\n",
       "                                                         stop_words=['to',\n",
       "                                                                     'the',\n",
       "                                                                     'and',\n",
       "                                                                     'you',\n",
       "                                                                     'it', 'of',\n",
       "                                                                     'that',\n",
       "                                                                     'is', 'on',\n",
       "                                                                     'my', 'in',\n",
       "                                                                     'for',\n",
       "                                                                     'this',\n",
       "                                                                     'with',\n",
       "                                                                     'but',\n",
       "                                                                     'me',\n",
       "                                                                     'not',\n",
       "                                                                     'have',\n",
       "                                                                     'just',\n",
       "                                                                     'if', 'so',\n",
       "                                                                     'like',\n",
       "                                                                     'or',\n",
       "                                                                     'are',\n",
       "                                                                     'be',\n",
       "                                                                     'what',\n",
       "                                                                     'was',\n",
       "                                                                     'your',\n",
       "                                                                     'they',\n",
       "                                                                     'do', ...])),\n",
       "                                        ('nb', BernoulliNB())]),\n",
       "              random_state=42, scoring='f1_weighted',\n",
       "              search_spaces={'cvec__max_df': Real(low=0.85, high=0.95, prior='uniform', transform='identity'),\n",
       "                             'cvec__max_features': Integer(low=5000, high=10000, prior='uniform', transform='identity'),\n",
       "                             'cvec__min_df': Integer(low=1, high=3, prior='uniform', transform='identity'),\n",
       "                             'nb__alpha': Real(low=0.0001, high=1.0, prior='uniform', transform='identity')})"
      ]
     },
     "execution_count": 206,
     "metadata": {},
     "output_type": "execute_result"
    }
   ],
   "source": [
    "# Fit training data to the model\n",
    "\n",
    "bs_nb.fit(X_train, y_train)"
   ]
  },
  {
   "cell_type": "code",
   "execution_count": 207,
   "id": "f9a57789-4d1a-407f-8d76-25f04a0a86cc",
   "metadata": {},
   "outputs": [
    {
     "name": "stdout",
     "output_type": "stream",
     "text": [
      "Best parameters: OrderedDict([('cvec__max_df', 0.95), ('cvec__max_features', 10000), ('cvec__min_df', 1), ('nb__alpha', 0.0001)])\n",
      "Training score: 0.7313707683442104\n",
      "Test score: 0.6041541711372016\n"
     ]
    }
   ],
   "source": [
    "# View results of this run\n",
    "\n",
    "results(bs_nb)"
   ]
  },
  {
   "cell_type": "code",
   "execution_count": 152,
   "id": "3ae70b1b-75d4-4364-963d-87d7c5630bec",
   "metadata": {},
   "outputs": [],
   "source": [
    "# Append results to model data frame\n",
    "\n",
    "model_df = add_to_model(model_df, bs_nb, 'bernoulli')"
   ]
  },
  {
   "cell_type": "markdown",
   "id": "3716dadc-9c73-4667-aa03-d208ec6cfeb0",
   "metadata": {},
   "source": [
    "#### Random Forest Model"
   ]
  },
  {
   "cell_type": "code",
   "execution_count": 45,
   "id": "4be28fba-4e1f-40c1-9b43-c1ad9165cdea",
   "metadata": {},
   "outputs": [],
   "source": [
    "# Create pipeline to instantiate models\n",
    "\n",
    "pipe_rf = Pipeline([\n",
    "    ('cvec', CountVectorizer(stop_words = stop_word_list)),\n",
    "    ('rf', RandomForestClassifier())\n",
    "])"
   ]
  },
  {
   "cell_type": "code",
   "execution_count": 154,
   "id": "ce938a8a-e646-4677-8ff9-a4eb335c02fd",
   "metadata": {},
   "outputs": [],
   "source": [
    "# Set up pipeline parameters\n",
    "\n",
    "pipe_params_rf = {\n",
    "    'cvec__max_features': Integer(500, 5_000),\n",
    "    'cvec__min_df'      : Integer(1, 5),\n",
    "    'cvec__max_df'      : Real(.85, .95),\n",
    "    'rf__n_estimators'  : Integer(100, 1_000),\n",
    "    'rf__max_depth'     : Integer(1, 15) \n",
    "}"
   ]
  },
  {
   "cell_type": "code",
   "execution_count": 155,
   "id": "f8940c89-e6f9-466b-8eab-22dce68190a6",
   "metadata": {},
   "outputs": [],
   "source": [
    "# Run bayes on random forest model\n",
    "\n",
    "bs_rf = BayesSearchCV(estimator = pipe_rf,\n",
    "                       search_spaces = pipe_params_rf,\n",
    "                       scoring = 'f1_weighted',\n",
    "                       n_iter = 50,\n",
    "                       cv = 5,\n",
    "                       random_state = 42)"
   ]
  },
  {
   "cell_type": "code",
   "execution_count": 156,
   "id": "ac03964b-64d7-4e85-a8ed-7cb78678d5d3",
   "metadata": {},
   "outputs": [
    {
     "data": {
      "text/plain": [
       "BayesSearchCV(cv=5,\n",
       "              estimator=Pipeline(steps=[('cvec',\n",
       "                                         CountVectorizer(stop_words=['to',\n",
       "                                                                     'the',\n",
       "                                                                     'and',\n",
       "                                                                     'you',\n",
       "                                                                     'it', 'of',\n",
       "                                                                     'that',\n",
       "                                                                     'is', 'on',\n",
       "                                                                     'my', 'in',\n",
       "                                                                     'for',\n",
       "                                                                     'this',\n",
       "                                                                     'with',\n",
       "                                                                     'but',\n",
       "                                                                     'me',\n",
       "                                                                     'not',\n",
       "                                                                     'have',\n",
       "                                                                     'just',\n",
       "                                                                     'if', 'so',\n",
       "                                                                     'like',\n",
       "                                                                     'or',\n",
       "                                                                     'are',\n",
       "                                                                     'be',\n",
       "                                                                     'what',\n",
       "                                                                     'was',\n",
       "                                                                     'your',\n",
       "                                                                     'they',\n",
       "                                                                     'do', ...])),\n",
       "                                        ('rf', RandomForestClassifier())]),\n",
       "              random_state=42, scoring='f1_weighted',\n",
       "              search_spaces=...uniform', transform='identity'),\n",
       "                             'cvec__max_features': Integer(low=500, high=5000, prior='uniform', transform='identity'),\n",
       "                             'cvec__min_df': Integer(low=1, high=5, prior='uniform', transform='identity'),\n",
       "                             'rf__max_depth': Integer(low=1, high=15, prior='uniform', transform='identity'),\n",
       "                             'rf__n_estimators': Integer(low=100, high=1000, prior='uniform', transform='identity')})"
      ]
     },
     "execution_count": 156,
     "metadata": {},
     "output_type": "execute_result"
    }
   ],
   "source": [
    "# Fit training data to the model\n",
    "\n",
    "bs_rf.fit(X_train, y_train)"
   ]
  },
  {
   "cell_type": "code",
   "execution_count": 157,
   "id": "60acfea5-0393-49d2-9f68-d692f9821b23",
   "metadata": {},
   "outputs": [
    {
     "name": "stdout",
     "output_type": "stream",
     "text": [
      "Best parameters: OrderedDict([('cvec__max_df', 0.95), ('cvec__max_features', 5000), ('cvec__min_df', 5), ('rf__max_depth', 15), ('rf__n_estimators', 1000)])\n",
      "Training score: 0.7112335130355033\n",
      "Test score: 0.6690577519057673\n"
     ]
    }
   ],
   "source": [
    "# View results of this run\n",
    "\n",
    "results(bs_rf)"
   ]
  },
  {
   "cell_type": "code",
   "execution_count": 158,
   "id": "dcd1d006-b096-48bf-a1ae-45846c0fa16c",
   "metadata": {},
   "outputs": [],
   "source": [
    "# Append results to model data frame\n",
    "\n",
    "model_df = add_to_model(model_df, bs_rf, 'random_forest')"
   ]
  },
  {
   "cell_type": "markdown",
   "id": "3c4d6639-b568-4a4e-8a23-8149dd4e089d",
   "metadata": {},
   "source": [
    "#### XG Boost"
   ]
  },
  {
   "cell_type": "code",
   "execution_count": 188,
   "id": "88846921-958f-484b-9246-0bdcdb200395",
   "metadata": {},
   "outputs": [],
   "source": [
    "# Create pipeline to instantiate models\n",
    "\n",
    "pipe_xg = Pipeline([\n",
    "    ('cvec', CountVectorizer(stop_words = stop_word_list)),\n",
    "    ('xg', XGBClassifier(eval_metric = 'logloss')),\n",
    "])\n"
   ]
  },
  {
   "cell_type": "code",
   "execution_count": 189,
   "id": "cfc33b37-d86a-4c15-8875-ce35e35ce38b",
   "metadata": {},
   "outputs": [],
   "source": [
    "# Set up pipeline parameters\n",
    "\n",
    "pipe_params_xg = {\n",
    "    'cvec__max_features': Integer(15_000, 18_000),\n",
    "    'cvec__min_df'      : Integer(2, 8),\n",
    "    'cvec__max_df'      : Real(.9, .99),\n",
    "    'xg__n_estimators'  : Integer(100, 500),\n",
    "    'xg__max_depth'     : Integer(2, 15) \n",
    "}\n"
   ]
  },
  {
   "cell_type": "code",
   "execution_count": 190,
   "id": "26d29016-afd7-4020-845f-d84fcbe14841",
   "metadata": {},
   "outputs": [],
   "source": [
    "# Run bayes on the xg boost model\n",
    "\n",
    "bs_xg = BayesSearchCV(estimator = pipe_xg,\n",
    "                       search_spaces = pipe_params_xg,\n",
    "                       scoring = 'f1_weighted',\n",
    "                       n_iter = 50,\n",
    "                       cv = 5,\n",
    "                       random_state = 42)"
   ]
  },
  {
   "cell_type": "code",
   "execution_count": 191,
   "id": "ea8f83af-d638-4e68-a617-bf9801b806f7",
   "metadata": {},
   "outputs": [
    {
     "data": {
      "text/plain": [
       "BayesSearchCV(cv=5,\n",
       "              estimator=Pipeline(steps=[('cvec',\n",
       "                                         CountVectorizer(stop_words=['to',\n",
       "                                                                     'the',\n",
       "                                                                     'and',\n",
       "                                                                     'you',\n",
       "                                                                     'it', 'of',\n",
       "                                                                     'that',\n",
       "                                                                     'is', 'on',\n",
       "                                                                     'my', 'in',\n",
       "                                                                     'for',\n",
       "                                                                     'this',\n",
       "                                                                     'with',\n",
       "                                                                     'but',\n",
       "                                                                     'me',\n",
       "                                                                     'not',\n",
       "                                                                     'have',\n",
       "                                                                     'just',\n",
       "                                                                     'if', 'so',\n",
       "                                                                     'like',\n",
       "                                                                     'or',\n",
       "                                                                     'are',\n",
       "                                                                     'be',\n",
       "                                                                     'what',\n",
       "                                                                     'was',\n",
       "                                                                     'your',\n",
       "                                                                     'they',\n",
       "                                                                     'do', ...])),\n",
       "                                        ('xg',\n",
       "                                         XGBClassifier(base_score=None,\n",
       "                                                       booster=None,\n",
       "                                                       colsample_bylevel=None,\n",
       "                                                       colsample_byno...\n",
       "              search_spaces={'cvec__max_df': Real(low=0.9, high=0.99, prior='uniform', transform='identity'),\n",
       "                             'cvec__max_features': Integer(low=15000, high=18000, prior='uniform', transform='identity'),\n",
       "                             'cvec__min_df': Integer(low=2, high=8, prior='uniform', transform='identity'),\n",
       "                             'xg__max_depth': Integer(low=2, high=15, prior='uniform', transform='identity'),\n",
       "                             'xg__n_estimators': Integer(low=100, high=500, prior='uniform', transform='identity')})"
      ]
     },
     "execution_count": 191,
     "metadata": {},
     "output_type": "execute_result"
    }
   ],
   "source": [
    "# Fit the model to training data\n",
    "\n",
    "bs_xg.fit(X_train, y_train)"
   ]
  },
  {
   "cell_type": "code",
   "execution_count": 192,
   "id": "e0c8610a-54cf-48b9-bd99-bc5815cff434",
   "metadata": {},
   "outputs": [
    {
     "name": "stdout",
     "output_type": "stream",
     "text": [
      "Best parameters: OrderedDict([('cvec__max_df', 0.9), ('cvec__max_features', 18000), ('cvec__min_df', 2), ('xg__max_depth', 15), ('xg__n_estimators', 279)])\n",
      "Training score: 0.8330595187757812\n",
      "Test score: 0.693419656945338\n"
     ]
    }
   ],
   "source": [
    "# View the results of this run\n",
    "\n",
    "results(bs_xg)"
   ]
  },
  {
   "cell_type": "code",
   "execution_count": 245,
   "id": "30fba14d-35b9-4b97-a8ab-ca321e5ab99a",
   "metadata": {},
   "outputs": [
    {
     "data": {
      "image/png": "[encoded data removed]",
      "text/plain": [
       "<Figure size 432x288 with 2 Axes>"
      ]
     },
     "metadata": {
      "needs_background": "light"
     },
     "output_type": "display_data"
    }
   ],
   "source": [
    "# Plot confusion matrix on results: training\n",
    "\n",
    "plot_confusion_matrix(bs_xg.best_estimator_, X_train, y_train, cmap = 'Blues')\n",
    "plt.title('Confusion Matrix: Training Data');"
   ]
  },
  {
   "cell_type": "code",
   "execution_count": 246,
   "id": "3f850a38-c627-427a-8d87-aaf5f6b41fe2",
   "metadata": {},
   "outputs": [
    {
     "data": {
      "image/png": "[encoded data removed]",
      "text/plain": [
       "<Figure size 432x288 with 2 Axes>"
      ]
     },
     "metadata": {
      "needs_background": "light"
     },
     "output_type": "display_data"
    }
   ],
   "source": [
    "# Plot confusion matrix on results: test\n",
    "\n",
    "plot_confusion_matrix(bs_xg.best_estimator_, X_test, y_test, cmap = 'Blues')\n",
    "plt.title('Confusion Matrix: Test Data')\n",
    "plt.savefig('../images/confusion_matrix_test');"
   ]
  },
  {
   "cell_type": "code",
   "execution_count": 193,
   "id": "19f1e1aa-ce33-496a-ad56-6e24773ef072",
   "metadata": {},
   "outputs": [],
   "source": [
    "# Append this data to the model data frame\n",
    "\n",
    "model_df = add_to_model(model_df, bs_xg, 'xg_boost')"
   ]
  },
  {
   "cell_type": "code",
   "execution_count": 244,
   "id": "2692836e-4067-4bc1-81f9-6204e5d6e8d4",
   "metadata": {},
   "outputs": [
    {
     "data": {
      "image/png": "[encoded data removed]",
      "text/plain": [
       "<Figure size 720x504 with 1 Axes>"
      ]
     },
     "metadata": {
      "needs_background": "light"
     },
     "output_type": "display_data"
    }
   ],
   "source": [
    "# Plot the results of the models\n",
    "\n",
    "plt.figure(figsize = (10, 7))\n",
    "\n",
    "plt.scatter(x = model_df['model'], y = model_df['test_score'], c = 'orange', label = 'Test')\n",
    "plt.scatter(x = model_df['model'], y = model_df['training_score'], c = 'green', label = 'Training')\n",
    "plt.title('Scatterplot of Training vs Test Scores across Models')\n",
    "plt.xlabel('Models Evaluated')\n",
    "plt.ylabel('Score')\n",
    "plt.legend()\n",
    "plt.savefig('../images/scores.png');"
   ]
  },
  {
   "cell_type": "code",
   "execution_count": 247,
   "id": "db1fc025-13c2-42ca-a359-0dc5b4e0fa55",
   "metadata": {},
   "outputs": [],
   "source": [
    "# Output all model results to csv\n",
    "\n",
    "model_df.to_csv('../data/model_results.csv', index = False)"
   ]
  },
  {
   "cell_type": "code",
   "execution_count": null,
   "id": "909e5e4c-d53b-4554-b344-dedef2ebb457",
   "metadata": {},
   "outputs": [],
   "source": []
  }
 ],
 "metadata": {
  "kernelspec": {
   "display_name": "Python 3",
   "language": "python",
   "name": "python3"
  },
  "language_info": {
   "codemirror_mode": {
    "name": "ipython",
    "version": 3
   },
   "file_extension": ".py",
   "mimetype": "text/x-python",
   "name": "python",
   "nbconvert_exporter": "python",
   "pygments_lexer": "ipython3",
   "version": "3.8.10"
  }
 },
 "nbformat": 4,
 "nbformat_minor": 5
}
